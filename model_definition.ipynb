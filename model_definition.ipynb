{
  "nbformat": 4,
  "nbformat_minor": 0,
  "metadata": {
    "colab": {
      "name": "Untitled0.ipynb",
      "provenance": [],
      "collapsed_sections": []
    },
    "kernelspec": {
      "name": "python3",
      "display_name": "Python 3"
    }
  },
  "cells": [
    {
      "cell_type": "code",
      "metadata": {
        "id": "MkcZ1NcO5Duj"
      },
      "source": [
        "from tensorflow import keras\n",
        "from tensorflow.keras import layers"
      ],
      "execution_count": 5,
      "outputs": []
    },
    {
      "cell_type": "code",
      "metadata": {
        "id": "1b5Di3M_5VFn"
      },
      "source": [
        "num_outputs = 4"
      ],
      "execution_count": 3,
      "outputs": []
    },
    {
      "cell_type": "markdown",
      "metadata": {
        "id": "nijAq-g85Z_V"
      },
      "source": [
        "## CNN model"
      ]
    },
    {
      "cell_type": "code",
      "metadata": {
        "id": "6n8dkjfL5Tlv"
      },
      "source": [
        "inp = keras.Input((None, None, 3))\n",
        "base_model = keras.applications.EfficientNetB3(include_top=False, pooling='avg')\n",
        "x = base_model(inp)\n",
        "x = layers.Dense(num_outputs, activation='softmax')(x)\n",
        "cnn_model = keras.Model(inp, x, name='cnn_model')\n",
        "cnn_model.summary()"
      ],
      "execution_count": null,
      "outputs": []
    },
    {
      "cell_type": "markdown",
      "metadata": {
        "id": "Fc_qwLeM6B7c"
      },
      "source": [
        "## RNN model"
      ]
    },
    {
      "cell_type": "code",
      "metadata": {
        "id": "acP6ieB05dCq"
      },
      "source": [
        "num_features = 1536 # from EfficientNetB3\n",
        "rnn_model = keras.models.Sequential(name='rnn_model')\n",
        "rnn_model.add(layers.GRU(128, dropout=0.2, return_sequences=False, input_shape=(None, num_features)))\n",
        "rnn_model.add(layers.Dense(num_outputs, activation='sigmoid'))\n",
        "rnn_model.summary()"
      ],
      "execution_count": null,
      "outputs": []
    }
  ]
}